{
  "nbformat": 4,
  "nbformat_minor": 0,
  "metadata": {
    "colab": {
      "name": "TASK3.ipynb",
      "provenance": [],
      "authorship_tag": "ABX9TyMCTAeFVo9CLJ8mia5Y4oBG",
      "include_colab_link": true
    },
    "kernelspec": {
      "name": "python3",
      "display_name": "Python 3"
    }
  },
  "cells": [
    {
      "cell_type": "markdown",
      "metadata": {
        "id": "view-in-github",
        "colab_type": "text"
      },
      "source": [
        "<a href=\"https://colab.research.google.com/github/jonatancisneros/AzureBlobLearning/blob/master/TASK3.ipynb\" target=\"_parent\"><img src=\"https://colab.research.google.com/assets/colab-badge.svg\" alt=\"Open In Colab\"/></a>"
      ]
    },
    {
      "cell_type": "markdown",
      "metadata": {
        "id": "UkA7W4RYgiif",
        "colab_type": "text"
      },
      "source": [
        "# Task 3\n",
        "\n",
        "The User Acquisition team asks you to help them find a mix of spend in different advertising campaigns that maximizes the chance of reaching a higher return on investment (ROI). \n",
        "\n",
        "The ROI is calculated as revenue / spend. The attachment “task3_campaign_performance.csv” contains past performance information of different campaigns with the following data. \n",
        "\n",
        "See the appendix for an explanation of the columns.\n",
        "https://github.com/jonatancisneros/RovioTest/blob/master/images/task3_dictionary.png\n",
        " \n",
        "\n",
        "● Prepare 3 portfolios where you maximize the ROI while minimizing the risk. You could think of risk as the standard deviation of the returns of your proposed portfolio **(A less volatile portfolio is less risky). You could look at the Markowitz model wikipedia page for more information. (Code required if you select this task)**\n",
        "\n",
        "● Usually when one scales the spend in a campaign the ROI deteriorates with the scale. How would you account for this effect in your model? (No need for code)\n",
        "\n",
        "● Suppose that you want to monitor that the campaigns are reaching the day 360 target. \n",
        "\n",
        "However, for new cohorts you do not know their future revenue at day 360. How long would you wait to observe the revenue of the cohorts to make a recommendation for adjusting the campaign budget according to the observed performance? (No need for code)\n"
      ]
    },
    {
      "cell_type": "code",
      "metadata": {
        "id": "rFhrA-onfwzC",
        "colab_type": "code",
        "outputId": "570a59e6-1b0e-4ad2-d605-aee3d935fce9",
        "colab": {
          "base_uri": "https://localhost:8080/",
          "height": 224
        }
      },
      "source": [
        "#load data \n",
        "\n",
        "import pandas as pd \n",
        "import matplotlib as pyplot\n",
        "\n",
        "df=pd.read_csv('https://raw.githubusercontent.com/jonatancisneros/RovioTest/master/task3_campaign_performance.csv?token=AG3RUYJ3GB7KELNDSPIFOZS63LJOO')\n",
        "\n",
        "df.head()\n"
      ],
      "execution_count": 0,
      "outputs": [
        {
          "output_type": "execute_result",
          "data": {
            "text/html": [
              "<div>\n",
              "<style scoped>\n",
              "    .dataframe tbody tr th:only-of-type {\n",
              "        vertical-align: middle;\n",
              "    }\n",
              "\n",
              "    .dataframe tbody tr th {\n",
              "        vertical-align: top;\n",
              "    }\n",
              "\n",
              "    .dataframe thead th {\n",
              "        text-align: right;\n",
              "    }\n",
              "</style>\n",
              "<table border=\"1\" class=\"dataframe\">\n",
              "  <thead>\n",
              "    <tr style=\"text-align: right;\">\n",
              "      <th></th>\n",
              "      <th>registration_date</th>\n",
              "      <th>platform</th>\n",
              "      <th>campaign_id</th>\n",
              "      <th>cohort_age</th>\n",
              "      <th>spend</th>\n",
              "      <th>d7_revenue_mature</th>\n",
              "      <th>d30_revenue_mature</th>\n",
              "      <th>d180_revenue_mature</th>\n",
              "      <th>d360_revenue_mature</th>\n",
              "      <th>target_7</th>\n",
              "      <th>target_30</th>\n",
              "      <th>target_180</th>\n",
              "      <th>target_360</th>\n",
              "    </tr>\n",
              "  </thead>\n",
              "  <tbody>\n",
              "    <tr>\n",
              "      <th>0</th>\n",
              "      <td>2018-06-30</td>\n",
              "      <td>iOS</td>\n",
              "      <td>40</td>\n",
              "      <td>396</td>\n",
              "      <td>78.28</td>\n",
              "      <td>57.191055</td>\n",
              "      <td>72.052467</td>\n",
              "      <td>199.666779</td>\n",
              "      <td>251.173569</td>\n",
              "      <td>0.155479</td>\n",
              "      <td>0.404619</td>\n",
              "      <td>0.588604</td>\n",
              "      <td>0.809235</td>\n",
              "    </tr>\n",
              "    <tr>\n",
              "      <th>1</th>\n",
              "      <td>2018-06-30</td>\n",
              "      <td>iOS</td>\n",
              "      <td>41</td>\n",
              "      <td>396</td>\n",
              "      <td>425.62</td>\n",
              "      <td>50.662594</td>\n",
              "      <td>69.290665</td>\n",
              "      <td>80.963631</td>\n",
              "      <td>106.655571</td>\n",
              "      <td>0.155479</td>\n",
              "      <td>0.404619</td>\n",
              "      <td>0.588604</td>\n",
              "      <td>0.809235</td>\n",
              "    </tr>\n",
              "    <tr>\n",
              "      <th>2</th>\n",
              "      <td>2018-06-30</td>\n",
              "      <td>iOS</td>\n",
              "      <td>66</td>\n",
              "      <td>396</td>\n",
              "      <td>367.64</td>\n",
              "      <td>10.972462</td>\n",
              "      <td>34.915482</td>\n",
              "      <td>49.872746</td>\n",
              "      <td>52.302204</td>\n",
              "      <td>0.155479</td>\n",
              "      <td>0.404619</td>\n",
              "      <td>0.588604</td>\n",
              "      <td>0.809235</td>\n",
              "    </tr>\n",
              "    <tr>\n",
              "      <th>3</th>\n",
              "      <td>2018-06-30</td>\n",
              "      <td>iOS</td>\n",
              "      <td>51</td>\n",
              "      <td>396</td>\n",
              "      <td>456.19</td>\n",
              "      <td>26.355198</td>\n",
              "      <td>37.050022</td>\n",
              "      <td>2001.552368</td>\n",
              "      <td>4174.646973</td>\n",
              "      <td>0.155479</td>\n",
              "      <td>0.404619</td>\n",
              "      <td>0.588604</td>\n",
              "      <td>0.809235</td>\n",
              "    </tr>\n",
              "    <tr>\n",
              "      <th>4</th>\n",
              "      <td>2018-06-30</td>\n",
              "      <td>iOS</td>\n",
              "      <td>58</td>\n",
              "      <td>396</td>\n",
              "      <td>196.66</td>\n",
              "      <td>5.352040</td>\n",
              "      <td>6.353893</td>\n",
              "      <td>6.530920</td>\n",
              "      <td>6.655556</td>\n",
              "      <td>0.155479</td>\n",
              "      <td>0.404619</td>\n",
              "      <td>0.588604</td>\n",
              "      <td>0.809235</td>\n",
              "    </tr>\n",
              "  </tbody>\n",
              "</table>\n",
              "</div>"
            ],
            "text/plain": [
              "  registration_date platform  campaign_id  ...  target_30  target_180  target_360\n",
              "0        2018-06-30      iOS           40  ...   0.404619    0.588604    0.809235\n",
              "1        2018-06-30      iOS           41  ...   0.404619    0.588604    0.809235\n",
              "2        2018-06-30      iOS           66  ...   0.404619    0.588604    0.809235\n",
              "3        2018-06-30      iOS           51  ...   0.404619    0.588604    0.809235\n",
              "4        2018-06-30      iOS           58  ...   0.404619    0.588604    0.809235\n",
              "\n",
              "[5 rows x 13 columns]"
            ]
          },
          "metadata": {
            "tags": []
          },
          "execution_count": 9
        }
      ]
    },
    {
      "cell_type": "code",
      "metadata": {
        "id": "uLDyUxABrGws",
        "colab_type": "code",
        "outputId": "7a527124-60d2-4ef1-b0a1-5b9e9ae164f4",
        "colab": {
          "base_uri": "https://localhost:8080/",
          "height": 282
        }
      },
      "source": [
        "\n",
        "\n",
        "df[\"spend\"].hist()"
      ],
      "execution_count": 0,
      "outputs": [
        {
          "output_type": "execute_result",
          "data": {
            "text/plain": [
              "<matplotlib.axes._subplots.AxesSubplot at 0x7f11ab6d0ac8>"
            ]
          },
          "metadata": {
            "tags": []
          },
          "execution_count": 11
        },
        {
          "output_type": "display_data",
          "data": {
            "image/png": "[encoded data removed]",
            "text/plain": [
              "<Figure size 432x288 with 1 Axes>"
            ]
          },
          "metadata": {
            "tags": [],
            "needs_background": "light"
          }
        }
      ]
    },
    {
      "cell_type": "code",
      "metadata": {
        "id": "QbNUVtpMxghN",
        "colab_type": "code",
        "colab": {}
      },
      "source": [
        ""
      ],
      "execution_count": 0,
      "outputs": []
    }
  ]
}